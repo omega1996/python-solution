{
 "cells": [
  {
   "cell_type": "code",
   "execution_count": 1,
   "metadata": {},
   "outputs": [],
   "source": [
    "from random import randint"
   ]
  },
  {
   "cell_type": "code",
   "execution_count": 2,
   "metadata": {},
   "outputs": [],
   "source": [
    "class Car:\n",
    "    def __init__(self, max_speed=0, drag_coef=0, time_to_max=0):\n",
    "        self.max_speed = max_speed\n",
    "        self.drag_coef = drag_coef\n",
    "        self.time_to_max = time_to_max\n",
    "     "
   ]
  },
  {
   "cell_type": "code",
   "execution_count": 3,
   "metadata": {},
   "outputs": [],
   "source": [
    "class Weather:\n",
    "    def __init__(self, wind_speed):\n",
    "        self.wind_speed = randint(0, wind_speed)\n",
    "    "
   ]
  },
  {
   "cell_type": "code",
   "execution_count": 4,
   "metadata": {},
   "outputs": [
    {
     "name": "stdout",
     "output_type": "stream",
     "text": [
      "Car <<__main__.Car object at 0x7fca600ec0b8>> result: 39.366174\n",
      "Car <<__main__.Car object at 0x7fca600ec240>> result: 79.843736\n",
      "Car <<__main__.Car object at 0x7fca600ec278>> result: 70.711065\n",
      "Car <<__main__.Car object at 0x7fca600ec208>> result: 67.216373\n",
      "Car <<__main__.Car object at 0x7fca600ec1d0>> result: 39.970862\n",
      "end\n"
     ]
    }
   ],
   "source": [
    "class Competition:\n",
    "    instance = None\n",
    "    def __new__(cls, *args, **kwargs):\n",
    "        if cls.instance is None:\n",
    "            cls.instance = super(Competition, cls).__new__(cls)\n",
    "        return cls.instance\n",
    "        pass\n",
    "    \n",
    "    def __init__(self,distance):\n",
    "        self.distance = distance\n",
    "        \n",
    "    def start(self):\n",
    "        ferrary = Car(340,0.324, 26)\n",
    "        bugatti = Car(407,0.39,32)\n",
    "        toyota = Car(180,0.25,40)\n",
    "        lada = Car(180,0.32,56)\n",
    "        sx4 = Car(180,0.33,44)\n",
    "        car_list = [ferrary, lada,sx4,toyota,bugatti]\n",
    "        for competitor in car_list:\n",
    "            time = 0\n",
    "            speed = 0\n",
    "            \n",
    "            for distance in range(self.distance):\n",
    "                _wind_speed = Weather(20).wind_speed\n",
    "                \n",
    "                if time == 0:\n",
    "                    _speed = 1\n",
    "                    #print(\"start\")\n",
    "                else:\n",
    "                    _speed = (time/competitor.time_to_max)*competitor.max_speed\n",
    "                    if _speed > _wind_speed:\n",
    "                        _speed -= competitor.drag_coef*_wind_speed\n",
    "                        \n",
    "                time += float(1)/_speed\n",
    "            print(\"Car <%s> result: %f\" % (competitor , time))\n",
    "        print (\"end\")\n",
    "        \n",
    "Competition(10000).start()"
   ]
  },
  {
   "cell_type": "code",
   "execution_count": null,
   "metadata": {},
   "outputs": [],
   "source": []
  }
 ],
 "metadata": {
  "kernelspec": {
   "display_name": "Python 3",
   "language": "python",
   "name": "python3"
  },
  "language_info": {
   "codemirror_mode": {
    "name": "ipython",
    "version": 3
   },
   "file_extension": ".py",
   "mimetype": "text/x-python",
   "name": "python",
   "nbconvert_exporter": "python",
   "pygments_lexer": "ipython3",
   "version": "3.6.5"
  }
 },
 "nbformat": 4,
 "nbformat_minor": 2
}
