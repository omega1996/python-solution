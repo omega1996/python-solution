{
 "cells": [
  {
   "cell_type": "code",
   "execution_count": 36,
   "metadata": {},
   "outputs": [],
   "source": [
    "from random import randint"
   ]
  },
  {
   "cell_type": "code",
   "execution_count": 37,
   "metadata": {},
   "outputs": [],
   "source": [
    "class Car:\n",
    "    def __init__(self, max_speed=0, drag_coef=0, time_to_max=0, name=\"\"):\n",
    "        self.max_speed = max_speed\n",
    "        self.drag_coef = drag_coef\n",
    "        self.time_to_max = time_to_max\n",
    "        self.name = name"
   ]
  },
  {
   "cell_type": "code",
   "execution_count": 88,
   "metadata": {},
   "outputs": [],
   "source": [
    "class CarInit:\n",
    "    def __init__(self):\n",
    "        ferrary = Car(340,0.324, 26,\"ferrary\")\n",
    "        bugatti = Car(407,0.39,32,\"bugatti\")\n",
    "        toyota = Car(180,0.25,40,\"toyota\")\n",
    "        lada = Car(180,0.32,56,\"lada\")\n",
    "        sx4 = Car(180,0.33,44,\"sx4\")\n",
    "        self.car_list = [ferrary, lada, sx4, toyota, bugatti]\n",
    "    \n",
    "    @property\n",
    "    def get_list(self):\n",
    "        return self.car_list\n"
   ]
  },
  {
   "cell_type": "code",
   "execution_count": 89,
   "metadata": {},
   "outputs": [],
   "source": [
    "class Weather:\n",
    "    def __init__(self, wind_speed):\n",
    "        self.wind_speed = randint(0, wind_speed)\n",
    "        \n",
    "    @property \n",
    "    def get_weather(self):\n",
    "        return self.wind_speed"
   ]
  },
  {
   "cell_type": "code",
   "execution_count": 153,
   "metadata": {},
   "outputs": [],
   "source": [
    "class Competition:\n",
    "    instance = None\n",
    "    \n",
    "    def __new__(cls, *args, **kwargs):\n",
    "        if cls.instance is None:\n",
    "            cls.instance = super(Competition, cls).__new__(cls)\n",
    "        return cls.instance\n",
    "    \n",
    "    def __init__(self, distance):\n",
    "        self.distance = distance\n",
    "        \n",
    "    \n",
    "        \n",
    "    def start(self):\n",
    "        car_list = CarInit().get_list\n",
    "        \n",
    "        for competitor in car_list:\n",
    "            time = 0\n",
    "            speed = 0 \n",
    "            _wind_speed = Weather(20).get_weather\n",
    "            \n",
    "            for distance in range(self.distance):\n",
    "                if time == 0:\n",
    "                    _speed = 1\n",
    "                    #print(\"start\")\n",
    "                else:\n",
    "                    _speed = (time/competitor.time_to_max)*competitor.max_speed\n",
    "                    if _speed > _wind_speed:\n",
    "                        _speed -= competitor.drag_coef*_wind_speed\n",
    "                time += float(1)/_speed \n",
    "            storage = Store().save(competitor.name,time)\n",
    "            #print(storage.load)\n",
    "            print(\"Car <%s> result: %f\" % (competitor.name, time))\n"
   ]
  },
  {
   "cell_type": "code",
   "execution_count": 208,
   "metadata": {},
   "outputs": [],
   "source": [
    "class Store:\n",
    "    key = 0\n",
    "    _list = {}\n",
    "    instance = None\n",
    "    def __new__(cls, *args, **kwargs):\n",
    "        if cls.instance is None:\n",
    "            cls.instance = super(Store, cls).__new__(cls)\n",
    "        else: \n",
    "            cls.key +=1\n",
    "        \n",
    "        return cls.instance\n",
    "    \n",
    "    def save(self, name, time):\n",
    "        self.name=name\n",
    "        self.time=time\n",
    "        self._list[self.key] = name, time\n",
    "\n",
    "    \n",
    "    def load(self,num):\n",
    "        loading=[]\n",
    "        for i in range(5):\n",
    "            loading.append(num*5+i)\n",
    "        for i in loading:\n",
    "            loaded = self._list[i]\n",
    "        #print(self._list)\n",
    "        return loading"
   ]
  },
  {
   "cell_type": "code",
   "execution_count": 206,
   "metadata": {},
   "outputs": [
    {
     "name": "stdout",
     "output_type": "stream",
     "text": [
      "Car <ferrary> result: 39.485037\n",
      "Car <lada> result: 79.381272\n",
      "Car <sx4> result: 70.485223\n",
      "Car <toyota> result: 67.059354\n",
      "Car <bugatti> result: 39.758698\n"
     ]
    }
   ],
   "source": [
    "Competition(10000).start()"
   ]
  },
  {
   "cell_type": "code",
   "execution_count": null,
   "metadata": {},
   "outputs": [],
   "source": [
    "loading = Store()\n",
    "loading.load(0)"
   ]
  },
  {
   "cell_type": "code",
   "execution_count": null,
   "metadata": {},
   "outputs": [],
   "source": []
  },
  {
   "cell_type": "code",
   "execution_count": null,
   "metadata": {},
   "outputs": [],
   "source": []
  }
 ],
 "metadata": {
  "kernelspec": {
   "display_name": "Python 3",
   "language": "python",
   "name": "python3"
  },
  "language_info": {
   "codemirror_mode": {
    "name": "ipython",
    "version": 3
   },
   "file_extension": ".py",
   "mimetype": "text/x-python",
   "name": "python",
   "nbconvert_exporter": "python",
   "pygments_lexer": "ipython3",
   "version": "3.6.5"
  }
 },
 "nbformat": 4,
 "nbformat_minor": 2
}
