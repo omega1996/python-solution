{
 "cells": [
  {
   "cell_type": "code",
   "execution_count": 1,
   "metadata": {},
   "outputs": [],
   "source": [
    "from random import randint"
   ]
  },
  {
   "cell_type": "code",
   "execution_count": 2,
   "metadata": {},
   "outputs": [],
   "source": [
    "class Car:\n",
    "    '''\n",
    "    max_speed=0\n",
    "    drag_coef=0\n",
    "    time_to_max=0\n",
    "    '''\n",
    "    def __init__(self, max_speed=0, drag_coef=0, time_to_max=0, name=\"\"):\n",
    "        self.max_speed = max_speed\n",
    "        self.drag_coef = drag_coef\n",
    "        self.time_to_max = time_to_max\n",
    "        self.name = name"
   ]
  },
  {
   "cell_type": "code",
   "execution_count": 3,
   "metadata": {},
   "outputs": [
    {
     "name": "stdout",
     "output_type": "stream",
     "text": [
      "Help on class Car in module __main__:\n",
      "\n",
      "class Car(builtins.object)\n",
      " |  max_speed=0\n",
      " |  drag_coef=0\n",
      " |  time_to_max=0\n",
      " |  \n",
      " |  Methods defined here:\n",
      " |  \n",
      " |  __init__(self, max_speed=0, drag_coef=0, time_to_max=0, name='')\n",
      " |      Initialize self.  See help(type(self)) for accurate signature.\n",
      " |  \n",
      " |  ----------------------------------------------------------------------\n",
      " |  Data descriptors defined here:\n",
      " |  \n",
      " |  __dict__\n",
      " |      dictionary for instance variables (if defined)\n",
      " |  \n",
      " |  __weakref__\n",
      " |      list of weak references to the object (if defined)\n",
      "\n"
     ]
    }
   ],
   "source": [
    "help(Car)"
   ]
  },
  {
   "cell_type": "code",
   "execution_count": 4,
   "metadata": {},
   "outputs": [],
   "source": [
    "class Weather:\n",
    "    def __init__(self, wind_speed):\n",
    "        self.wind_speed = randint(0, wind_speed)\n",
    "        \n",
    "    @property \n",
    "    def get_weather(self):\n",
    "        return self.wind_speed"
   ]
  },
  {
   "cell_type": "code",
   "execution_count": 7,
   "metadata": {},
   "outputs": [],
   "source": [
    "class Competition:\n",
    "    instance = None\n",
    "    \n",
    "    def __new__(cls, *args, **kwargs):\n",
    "        if cls.instance is None:\n",
    "            cls.instance = super(Competition, cls).__new__(cls)\n",
    "        return cls.instance\n",
    "    \n",
    "    def __init__(self, distance):\n",
    "        self.distance = distance\n",
    "        \n",
    "    def start(self):\n",
    "        ferrary = Car(340,0.324, 26,\"ferrary\")\n",
    "        bugatti = Car(407,0.39,32,\"bugatti\")\n",
    "        toyota = Car(180,0.25,40,\"toyota\")\n",
    "        lada = Car(180,0.32,56,\"lada\")\n",
    "        sx4 = Car(180,0.33,44,\"sx4\")\n",
    "        car_list = [ferrary, lada, sx4, toyota, bugatti]\n",
    "        for competitor in car_list:\n",
    "            time = 0\n",
    "            speed = 0 \n",
    "            _wind_speed = Weather(20).get_weather\n",
    "            for distance in range(self.distance):\n",
    "                \n",
    "                if time == 0:\n",
    "                    _speed = 1\n",
    "                    #print(\"start\")\n",
    "                else:\n",
    "                    _speed = (time/competitor.time_to_max)*competitor.max_speed\n",
    "                    if _speed > _wind_speed:\n",
    "                        _speed -= competitor.drag_coef*_wind_speed\n",
    "                        \n",
    "                time += float(1)/_speed\n",
    "\n",
    "                \n",
    "            print(\"Car <%s> result: %f\" % (competitor.name, time))\n"
   ]
  },
  {
   "cell_type": "code",
   "execution_count": 8,
   "metadata": {},
   "outputs": [
    {
     "name": "stdout",
     "output_type": "stream",
     "text": [
      "4\n",
      "Car <ferrary> result: 39.218931\n",
      "5\n",
      "Car <lada> result: 79.381272\n",
      "15\n",
      "Car <sx4> result: 71.089234\n",
      "19\n",
      "Car <toyota> result: 67.674714\n",
      "3\n",
      "Car <bugatti> result: 39.758698\n"
     ]
    }
   ],
   "source": [
    "Competition(10000).start()"
   ]
  },
  {
   "cell_type": "code",
   "execution_count": null,
   "metadata": {},
   "outputs": [],
   "source": []
  }
 ],
 "metadata": {
  "kernelspec": {
   "display_name": "Python 3",
   "language": "python",
   "name": "python3"
  },
  "language_info": {
   "codemirror_mode": {
    "name": "ipython",
    "version": 3
   },
   "file_extension": ".py",
   "mimetype": "text/x-python",
   "name": "python",
   "nbconvert_exporter": "python",
   "pygments_lexer": "ipython3",
   "version": "3.6.5"
  }
 },
 "nbformat": 4,
 "nbformat_minor": 2
}
