{
 "cells": [
  {
   "cell_type": "code",
   "execution_count": 1,
   "metadata": {},
   "outputs": [],
   "source": [
    "from random import randint"
   ]
  },
  {
   "cell_type": "code",
   "execution_count": 30,
   "metadata": {},
   "outputs": [],
   "source": [
    "class Car:\n",
    "    def __init__(self, max_speed=0, drag_coef=0, time_to_max=0, name=\"\"):\n",
    "        self.max_speed = max_speed\n",
    "        self.drag_coef = drag_coef\n",
    "        self.time_to_max = time_to_max\n",
    "        self.name = name"
   ]
  },
  {
   "cell_type": "code",
   "execution_count": 27,
   "metadata": {},
   "outputs": [],
   "source": [
    "ferrary = Car(340,0.324, 26,\"ferrary\")\n",
    "bugatti = Car(407,0.39,32,\"bugatti\")\n",
    "toyota = Car(180,0.25,40,\"toyota\")\n",
    "lada = Car(180,0.32,56,\"lada\")\n",
    "sx4 = Car(180,0.33,44,\"sx4\")\n"
   ]
  },
  {
   "cell_type": "code",
   "execution_count": 4,
   "metadata": {},
   "outputs": [],
   "source": [
    "class Weather:\n",
    "    def __init__(self, wind_speed):\n",
    "        self.wind_speed = randint(0, wind_speed)\n",
    "        \n",
    "    @property \n",
    "    def get_weather(self):\n",
    "        return self.wind_speed"
   ]
  },
  {
   "cell_type": "code",
   "execution_count": 28,
   "metadata": {},
   "outputs": [],
   "source": [
    "class Competition:\n",
    "    instance = None\n",
    "    \n",
    "    def __new__(cls, *args, **kwargs):\n",
    "        if cls.instance is None:\n",
    "            cls.instance = super(Competition, cls).__new__(cls)\n",
    "        return cls.instance\n",
    "    \n",
    "    def __init__(self, distance):\n",
    "        self.distance = distance\n",
    "        \n",
    "    def start(self):\n",
    "        \n",
    "        car_list = [ferrary, lada, sx4, toyota, bugatti]\n",
    "        for competitor in car_list:\n",
    "            time = 0\n",
    "            speed = 0 \n",
    "            _wind_speed = Weather(20).get_weather\n",
    "            for distance in range(self.distance):\n",
    "                \n",
    "                if time == 0:\n",
    "                    _speed = 1\n",
    "                    #print(\"start\")\n",
    "                else:\n",
    "                    _speed = (time/competitor.time_to_max)*competitor.max_speed\n",
    "                    if _speed > _wind_speed:\n",
    "                        _speed -= competitor.drag_coef*_wind_speed\n",
    "                        \n",
    "                time += float(1)/_speed\n",
    "\n",
    "                \n",
    "            print(\"Car <%s> result: %f\" % (competitor.name, time))\n"
   ]
  },
  {
   "cell_type": "code",
   "execution_count": 29,
   "metadata": {},
   "outputs": [
    {
     "name": "stdout",
     "output_type": "stream",
     "text": [
      "Car <ferrary> result: 39.413339\n",
      "Car <lada> result: 79.761577\n",
      "Car <sx4> result: 71.235203\n",
      "Car <toyota> result: 66.897691\n",
      "Car <bugatti> result: 40.233963\n"
     ]
    }
   ],
   "source": [
    "Competition(10000).start()"
   ]
  },
  {
   "cell_type": "code",
   "execution_count": null,
   "metadata": {},
   "outputs": [],
   "source": []
  }
 ],
 "metadata": {
  "kernelspec": {
   "display_name": "Python 3",
   "language": "python",
   "name": "python3"
  },
  "language_info": {
   "codemirror_mode": {
    "name": "ipython",
    "version": 3
   },
   "file_extension": ".py",
   "mimetype": "text/x-python",
   "name": "python",
   "nbconvert_exporter": "python",
   "pygments_lexer": "ipython3",
   "version": "3.6.5"
  }
 },
 "nbformat": 4,
 "nbformat_minor": 2
}
